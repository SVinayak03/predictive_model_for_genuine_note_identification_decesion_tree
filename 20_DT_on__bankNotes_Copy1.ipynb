{
  "cells": [
    {
      "cell_type": "markdown",
      "metadata": {
        "id": "view-in-github",
        "colab_type": "text"
      },
      "source": [
        "<a href=\"https://colab.research.google.com/github/vinayakbs311/predictive_model_for_genuine_note_identification_decesion_tree/blob/main/20_DT_on__bankNotes_Copy1.ipynb\" target=\"_parent\"><img src=\"https://colab.research.google.com/assets/colab-badge.svg\" alt=\"Open In Colab\"/></a>"
      ]
    },
    {
      "cell_type": "code",
      "execution_count": null,
      "id": "3470674b",
      "metadata": {
        "id": "3470674b"
      },
      "outputs": [],
      "source": [
        "# Gini index: [0,0.5]\n",
        "# Information Gain:[0,1]\n",
        "# CART: Classification and regression Tree\n",
        "# Decision Tree pruning: used to avoid overfitting "
      ]
    },
    {
      "cell_type": "markdown",
      "id": "e97729cc",
      "metadata": {
        "id": "e97729cc"
      },
      "source": [
        "## Problem Statement: Identify either note is Genuine or not using predictive modelling  and with the help of Decision tree"
      ]
    },
    {
      "cell_type": "code",
      "execution_count": null,
      "id": "a9c69321",
      "metadata": {
        "id": "a9c69321"
      },
      "outputs": [],
      "source": [
        "import numpy as np\n",
        "import pandas as pd\n",
        "import seaborn as sns"
      ]
    },
    {
      "cell_type": "code",
      "execution_count": null,
      "id": "7510e070",
      "metadata": {
        "id": "7510e070",
        "outputId": "253592e4-0a1f-4474-d280-fd3e09462af7"
      },
      "outputs": [
        {
          "data": {
            "text/html": [
              "<div>\n",
              "<style scoped>\n",
              "    .dataframe tbody tr th:only-of-type {\n",
              "        vertical-align: middle;\n",
              "    }\n",
              "\n",
              "    .dataframe tbody tr th {\n",
              "        vertical-align: top;\n",
              "    }\n",
              "\n",
              "    .dataframe thead th {\n",
              "        text-align: right;\n",
              "    }\n",
              "</style>\n",
              "<table border=\"1\" class=\"dataframe\">\n",
              "  <thead>\n",
              "    <tr style=\"text-align: right;\">\n",
              "      <th></th>\n",
              "      <th>Variance</th>\n",
              "      <th>Skewness</th>\n",
              "      <th>Curtosis</th>\n",
              "      <th>Entropy</th>\n",
              "      <th>Class</th>\n",
              "    </tr>\n",
              "  </thead>\n",
              "  <tbody>\n",
              "    <tr>\n",
              "      <th>0</th>\n",
              "      <td>3.62160</td>\n",
              "      <td>8.6661</td>\n",
              "      <td>-2.8073</td>\n",
              "      <td>-0.44699</td>\n",
              "      <td>0</td>\n",
              "    </tr>\n",
              "    <tr>\n",
              "      <th>1</th>\n",
              "      <td>4.54590</td>\n",
              "      <td>8.1674</td>\n",
              "      <td>-2.4586</td>\n",
              "      <td>-1.46210</td>\n",
              "      <td>0</td>\n",
              "    </tr>\n",
              "    <tr>\n",
              "      <th>2</th>\n",
              "      <td>3.86600</td>\n",
              "      <td>-2.6383</td>\n",
              "      <td>1.9242</td>\n",
              "      <td>0.10645</td>\n",
              "      <td>0</td>\n",
              "    </tr>\n",
              "    <tr>\n",
              "      <th>3</th>\n",
              "      <td>3.45660</td>\n",
              "      <td>9.5228</td>\n",
              "      <td>-4.0112</td>\n",
              "      <td>-3.59440</td>\n",
              "      <td>0</td>\n",
              "    </tr>\n",
              "    <tr>\n",
              "      <th>4</th>\n",
              "      <td>0.32924</td>\n",
              "      <td>-4.4552</td>\n",
              "      <td>4.5718</td>\n",
              "      <td>-0.98880</td>\n",
              "      <td>0</td>\n",
              "    </tr>\n",
              "  </tbody>\n",
              "</table>\n",
              "</div>"
            ],
            "text/plain": [
              "   Variance  Skewness  Curtosis  Entropy  Class\n",
              "0   3.62160    8.6661   -2.8073 -0.44699      0\n",
              "1   4.54590    8.1674   -2.4586 -1.46210      0\n",
              "2   3.86600   -2.6383    1.9242  0.10645      0\n",
              "3   3.45660    9.5228   -4.0112 -3.59440      0\n",
              "4   0.32924   -4.4552    4.5718 -0.98880      0"
            ]
          },
          "execution_count": 2,
          "metadata": {},
          "output_type": "execute_result"
        }
      ],
      "source": [
        "df = pd.read_csv('banknotes.csv')\n",
        "df.head()"
      ]
    },
    {
      "cell_type": "code",
      "execution_count": null,
      "id": "1654470f",
      "metadata": {
        "id": "1654470f",
        "outputId": "45b1d302-8410-41c5-df4f-a5bbaeb2d051"
      },
      "outputs": [
        {
          "data": {
            "text/html": [
              "<div>\n",
              "<style scoped>\n",
              "    .dataframe tbody tr th:only-of-type {\n",
              "        vertical-align: middle;\n",
              "    }\n",
              "\n",
              "    .dataframe tbody tr th {\n",
              "        vertical-align: top;\n",
              "    }\n",
              "\n",
              "    .dataframe thead th {\n",
              "        text-align: right;\n",
              "    }\n",
              "</style>\n",
              "<table border=\"1\" class=\"dataframe\">\n",
              "  <thead>\n",
              "    <tr style=\"text-align: right;\">\n",
              "      <th></th>\n",
              "      <th>Variance</th>\n",
              "      <th>Skewness</th>\n",
              "      <th>Curtosis</th>\n",
              "      <th>Entropy</th>\n",
              "    </tr>\n",
              "  </thead>\n",
              "  <tbody>\n",
              "    <tr>\n",
              "      <th>0</th>\n",
              "      <td>3.6216</td>\n",
              "      <td>8.6661</td>\n",
              "      <td>-2.8073</td>\n",
              "      <td>-0.44699</td>\n",
              "    </tr>\n",
              "    <tr>\n",
              "      <th>1</th>\n",
              "      <td>4.5459</td>\n",
              "      <td>8.1674</td>\n",
              "      <td>-2.4586</td>\n",
              "      <td>-1.46210</td>\n",
              "    </tr>\n",
              "    <tr>\n",
              "      <th>2</th>\n",
              "      <td>3.8660</td>\n",
              "      <td>-2.6383</td>\n",
              "      <td>1.9242</td>\n",
              "      <td>0.10645</td>\n",
              "    </tr>\n",
              "  </tbody>\n",
              "</table>\n",
              "</div>"
            ],
            "text/plain": [
              "   Variance  Skewness  Curtosis  Entropy\n",
              "0    3.6216    8.6661   -2.8073 -0.44699\n",
              "1    4.5459    8.1674   -2.4586 -1.46210\n",
              "2    3.8660   -2.6383    1.9242  0.10645"
            ]
          },
          "execution_count": 3,
          "metadata": {},
          "output_type": "execute_result"
        }
      ],
      "source": [
        "# lets Create input and output data\n",
        "X = df.drop(columns='Class')\n",
        "X[:3]"
      ]
    },
    {
      "cell_type": "code",
      "execution_count": null,
      "id": "00db960d",
      "metadata": {
        "id": "00db960d",
        "outputId": "d3cbf509-9f83-44f4-a70b-2e75198091a9"
      },
      "outputs": [
        {
          "data": {
            "text/plain": [
              "0    0\n",
              "1    0\n",
              "2    0\n",
              "Name: Class, dtype: int64"
            ]
          },
          "execution_count": 4,
          "metadata": {},
          "output_type": "execute_result"
        }
      ],
      "source": [
        "y = df['Class']\n",
        "y[:3]"
      ]
    },
    {
      "cell_type": "code",
      "execution_count": null,
      "id": "ecb4bb13",
      "metadata": {
        "id": "ecb4bb13",
        "outputId": "37676058-80b0-49c3-9956-c2487f192b11"
      },
      "outputs": [
        {
          "data": {
            "text/plain": [
              "0    762\n",
              "1    610\n",
              "Name: Class, dtype: int64"
            ]
          },
          "execution_count": 5,
          "metadata": {},
          "output_type": "execute_result"
        }
      ],
      "source": [
        "y.value_counts()"
      ]
    },
    {
      "cell_type": "code",
      "execution_count": null,
      "id": "c38b7f87",
      "metadata": {
        "id": "c38b7f87",
        "outputId": "608ef291-9f82-4692-d527-1683022b085e"
      },
      "outputs": [
        {
          "data": {
            "text/plain": [
              "1372"
            ]
          },
          "execution_count": 6,
          "metadata": {},
          "output_type": "execute_result"
        }
      ],
      "source": [
        "len(y)"
      ]
    },
    {
      "cell_type": "code",
      "execution_count": null,
      "id": "e0084eb6",
      "metadata": {
        "id": "e0084eb6"
      },
      "outputs": [],
      "source": [
        "# splitting the dataset\n",
        "from sklearn.model_selection import train_test_split"
      ]
    },
    {
      "cell_type": "code",
      "execution_count": null,
      "id": "cf4fdb9d",
      "metadata": {
        "id": "cf4fdb9d"
      },
      "outputs": [],
      "source": [
        "X_train,X_test,y_train,y_test = train_test_split(X,y,test_size=.2)"
      ]
    },
    {
      "cell_type": "code",
      "execution_count": null,
      "id": "2ed22024",
      "metadata": {
        "id": "2ed22024"
      },
      "outputs": [],
      "source": [
        "# Import Descision tree algo\n",
        "#from sklearn.tree import DecisionTreeRegressor\n",
        "\n",
        "# current problem is binary classification problem\n",
        "# hence classifier wil be used\n",
        "from sklearn.tree import DecisionTreeClassifier"
      ]
    },
    {
      "cell_type": "code",
      "execution_count": null,
      "id": "ff36e4b5",
      "metadata": {
        "id": "ff36e4b5"
      },
      "outputs": [],
      "source": [
        "model = DecisionTreeClassifier()"
      ]
    },
    {
      "cell_type": "code",
      "execution_count": null,
      "id": "3a8c2a3a",
      "metadata": {
        "id": "3a8c2a3a",
        "outputId": "863b9e94-5d08-4407-e24f-38c6f2265616"
      },
      "outputs": [
        {
          "data": {
            "text/plain": [
              "DecisionTreeClassifier()"
            ]
          },
          "execution_count": 28,
          "metadata": {},
          "output_type": "execute_result"
        }
      ],
      "source": [
        "#trianing of data\n",
        "model.fit(X_train,y_train)"
      ]
    },
    {
      "cell_type": "code",
      "execution_count": null,
      "id": "edd36c2d",
      "metadata": {
        "id": "edd36c2d",
        "outputId": "cdf9aaf1-dde0-4989-e7fd-3e213ca3b679"
      },
      "outputs": [
        {
          "data": {
            "text/plain": [
              "array([0, 1], dtype=int64)"
            ]
          },
          "execution_count": 12,
          "metadata": {},
          "output_type": "execute_result"
        }
      ],
      "source": [
        "model.classes_"
      ]
    },
    {
      "cell_type": "code",
      "execution_count": null,
      "id": "8d94fca7",
      "metadata": {
        "id": "8d94fca7",
        "outputId": "168ab564-bda4-4c2c-f793-b9dc2eb66eed"
      },
      "outputs": [
        {
          "data": {
            "text/plain": [
              "array([0, 1, 0, 0, 0], dtype=int64)"
            ]
          },
          "execution_count": 29,
          "metadata": {},
          "output_type": "execute_result"
        }
      ],
      "source": [
        "# prediction\n",
        "y_pred = model.predict(X_test)\n",
        "y_pred[:5]"
      ]
    },
    {
      "cell_type": "code",
      "execution_count": null,
      "id": "e28a34d5",
      "metadata": {
        "id": "e28a34d5",
        "outputId": "91013c78-ab17-492e-af9d-78cf926b3159"
      },
      "outputs": [
        {
          "data": {
            "text/plain": [
              "550     0\n",
              "1073    1\n",
              "1094    1\n",
              "18      0\n",
              "503     0\n",
              "Name: Class, dtype: int64"
            ]
          },
          "execution_count": 30,
          "metadata": {},
          "output_type": "execute_result"
        }
      ],
      "source": [
        "y_test[:5]"
      ]
    },
    {
      "cell_type": "code",
      "execution_count": null,
      "id": "93d123f5",
      "metadata": {
        "id": "93d123f5",
        "outputId": "b1ad9721-621c-4181-8272-3df141ae2f6b"
      },
      "outputs": [
        {
          "data": {
            "text/plain": [
              "100.0"
            ]
          },
          "execution_count": 31,
          "metadata": {},
          "output_type": "execute_result"
        }
      ],
      "source": [
        "# Lets check trianing data score\n",
        "model.score(X_train,y_train)*100"
      ]
    },
    {
      "cell_type": "code",
      "execution_count": null,
      "id": "0eb4bfa1",
      "metadata": {
        "id": "0eb4bfa1",
        "outputId": "c2f799cf-15e8-4ded-bab5-3f5c85e9eac7"
      },
      "outputs": [
        {
          "data": {
            "text/plain": [
              "98.54545454545455"
            ]
          },
          "execution_count": 32,
          "metadata": {},
          "output_type": "execute_result"
        }
      ],
      "source": [
        "model.score(X_test,y_test)*100"
      ]
    },
    {
      "cell_type": "code",
      "execution_count": null,
      "id": "1e424250",
      "metadata": {
        "id": "1e424250"
      },
      "outputs": [],
      "source": [
        "#performance metrics\n",
        "from sklearn.metrics import confusion_matrix,classification_report"
      ]
    },
    {
      "cell_type": "code",
      "execution_count": null,
      "id": "ab010681",
      "metadata": {
        "id": "ab010681",
        "outputId": "07218611-a790-4439-f36c-b0f9f375499e"
      },
      "outputs": [
        {
          "data": {
            "text/plain": [
              "array([[148,   0],\n",
              "       [  4, 123]], dtype=int64)"
            ]
          },
          "execution_count": 33,
          "metadata": {},
          "output_type": "execute_result"
        }
      ],
      "source": [
        "confusion_matrix(y_test,y_pred)"
      ]
    },
    {
      "cell_type": "code",
      "execution_count": null,
      "id": "d72b1256",
      "metadata": {
        "scrolled": true,
        "id": "d72b1256",
        "outputId": "50fc9ac3-0b80-4389-fe05-0990ab2b1a35"
      },
      "outputs": [
        {
          "name": "stdout",
          "output_type": "stream",
          "text": [
            "              precision    recall  f1-score   support\n",
            "\n",
            "           0       0.97      1.00      0.99       148\n",
            "           1       1.00      0.97      0.98       127\n",
            "\n",
            "    accuracy                           0.99       275\n",
            "   macro avg       0.99      0.98      0.99       275\n",
            "weighted avg       0.99      0.99      0.99       275\n",
            "\n"
          ]
        }
      ],
      "source": [
        "print(classification_report(y_test,y_pred))"
      ]
    },
    {
      "cell_type": "code",
      "execution_count": null,
      "id": "61724ce8",
      "metadata": {
        "id": "61724ce8",
        "outputId": "2ab0f555-d065-4f37-c18d-eb8220494def"
      },
      "outputs": [
        {
          "data": {
            "text/plain": [
              "'gini'"
            ]
          },
          "execution_count": 21,
          "metadata": {},
          "output_type": "execute_result"
        }
      ],
      "source": [
        "model.criterion"
      ]
    },
    {
      "cell_type": "code",
      "execution_count": null,
      "id": "3cba4e8d",
      "metadata": {
        "id": "3cba4e8d"
      },
      "outputs": [],
      "source": [
        "# LEst apply entropy\n",
        "model2 = DecisionTreeClassifier(criterion='entropy')"
      ]
    },
    {
      "cell_type": "code",
      "execution_count": null,
      "id": "7a4a61f9",
      "metadata": {
        "id": "7a4a61f9",
        "outputId": "cda2ba0b-03d1-4132-e469-58b07bd568b6"
      },
      "outputs": [
        {
          "data": {
            "text/plain": [
              "DecisionTreeClassifier(criterion='entropy')"
            ]
          },
          "execution_count": 36,
          "metadata": {},
          "output_type": "execute_result"
        }
      ],
      "source": [
        "model2.fit(X_train,y_train)"
      ]
    },
    {
      "cell_type": "code",
      "execution_count": null,
      "id": "3483899c",
      "metadata": {
        "id": "3483899c"
      },
      "outputs": [],
      "source": [
        "y_pred2 = model2.predict(X_test)"
      ]
    },
    {
      "cell_type": "code",
      "execution_count": null,
      "id": "23ce2462",
      "metadata": {
        "id": "23ce2462",
        "outputId": "0beb7630-bccb-4014-c07f-df961391812c"
      },
      "outputs": [
        {
          "data": {
            "text/plain": [
              "array([[148,   0],\n",
              "       [  3, 124]], dtype=int64)"
            ]
          },
          "execution_count": 38,
          "metadata": {},
          "output_type": "execute_result"
        }
      ],
      "source": [
        "confusion_matrix(y_test,y_pred2)"
      ]
    },
    {
      "cell_type": "code",
      "execution_count": null,
      "id": "010caf30",
      "metadata": {
        "id": "010caf30",
        "outputId": "4e8b63a9-2a5a-4706-df53-fa50d2030a31"
      },
      "outputs": [
        {
          "name": "stdout",
          "output_type": "stream",
          "text": [
            "              precision    recall  f1-score   support\n",
            "\n",
            "           0       0.98      1.00      0.99       148\n",
            "           1       1.00      0.98      0.99       127\n",
            "\n",
            "    accuracy                           0.99       275\n",
            "   macro avg       0.99      0.99      0.99       275\n",
            "weighted avg       0.99      0.99      0.99       275\n",
            "\n"
          ]
        }
      ],
      "source": [
        "print(classification_report(y_test,y_pred2))"
      ]
    },
    {
      "cell_type": "markdown",
      "id": "207b5209",
      "metadata": {
        "id": "207b5209"
      },
      "source": [
        "# DT visualization"
      ]
    },
    {
      "cell_type": "code",
      "execution_count": null,
      "id": "4c3d8c1f",
      "metadata": {
        "id": "4c3d8c1f"
      },
      "outputs": [],
      "source": [
        "from sklearn import tree"
      ]
    },
    {
      "cell_type": "code",
      "execution_count": null,
      "id": "5537ad8e",
      "metadata": {
        "scrolled": false,
        "id": "5537ad8e",
        "outputId": "45587514-07d7-4f5b-d7e8-e6160843599c"
      },
      "outputs": [
        {
          "data": {
            "text/html": [
              "<div>\n",
              "<style scoped>\n",
              "    .dataframe tbody tr th:only-of-type {\n",
              "        vertical-align: middle;\n",
              "    }\n",
              "\n",
              "    .dataframe tbody tr th {\n",
              "        vertical-align: top;\n",
              "    }\n",
              "\n",
              "    .dataframe thead th {\n",
              "        text-align: right;\n",
              "    }\n",
              "</style>\n",
              "<table border=\"1\" class=\"dataframe\">\n",
              "  <thead>\n",
              "    <tr style=\"text-align: right;\">\n",
              "      <th></th>\n",
              "      <th>Variance</th>\n",
              "      <th>Skewness</th>\n",
              "      <th>Curtosis</th>\n",
              "      <th>Entropy</th>\n",
              "    </tr>\n",
              "  </thead>\n",
              "  <tbody>\n",
              "    <tr>\n",
              "      <th>0</th>\n",
              "      <td>3.6216</td>\n",
              "      <td>8.6661</td>\n",
              "      <td>-2.8073</td>\n",
              "      <td>-0.44699</td>\n",
              "    </tr>\n",
              "    <tr>\n",
              "      <th>1</th>\n",
              "      <td>4.5459</td>\n",
              "      <td>8.1674</td>\n",
              "      <td>-2.4586</td>\n",
              "      <td>-1.46210</td>\n",
              "    </tr>\n",
              "  </tbody>\n",
              "</table>\n",
              "</div>"
            ],
            "text/plain": [
              "   Variance  Skewness  Curtosis  Entropy\n",
              "0    3.6216    8.6661   -2.8073 -0.44699\n",
              "1    4.5459    8.1674   -2.4586 -1.46210"
            ]
          },
          "execution_count": 41,
          "metadata": {},
          "output_type": "execute_result"
        }
      ],
      "source": [
        "X = df.iloc[:,:-1]\n",
        "X[:2]"
      ]
    },
    {
      "cell_type": "code",
      "execution_count": null,
      "id": "3014ce15",
      "metadata": {
        "id": "3014ce15",
        "outputId": "388004a5-8e3c-4ed5-aba3-88827c828f48"
      },
      "outputs": [
        {
          "data": {
            "text/plain": [
              "Index(['Variance', 'Skewness', 'Curtosis', 'Entropy'], dtype='object')"
            ]
          },
          "execution_count": 42,
          "metadata": {},
          "output_type": "execute_result"
        }
      ],
      "source": [
        "X.columns"
      ]
    },
    {
      "cell_type": "code",
      "execution_count": null,
      "id": "88f188da",
      "metadata": {
        "id": "88f188da",
        "outputId": "63f513ca-d665-4453-c1c5-077573fb05ad"
      },
      "outputs": [
        {
          "data": {
            "text/plain": [
              "DecisionTreeClassifier()"
            ]
          },
          "execution_count": 43,
          "metadata": {},
          "output_type": "execute_result"
        }
      ],
      "source": [
        "model"
      ]
    },
    {
      "cell_type": "code",
      "execution_count": null,
      "id": "7af36f61",
      "metadata": {
        "scrolled": true,
        "id": "7af36f61",
        "outputId": "35f27fee-fad4-4f24-c967-cb738f3eeb09"
      },
      "outputs": [
        {
          "name": "stdout",
          "output_type": "stream",
          "text": [
            "|--- Variance <= 0.31\n",
            "|   |--- Skewness <= 7.52\n",
            "|   |   |--- Variance <= -0.46\n",
            "|   |   |   |--- Curtosis <= 6.22\n",
            "|   |   |   |   |--- Skewness <= 7.29\n",
            "|   |   |   |   |   |--- class: 1\n",
            "|   |   |   |   |--- Skewness >  7.29\n",
            "|   |   |   |   |   |--- Curtosis <= 0.25\n",
            "|   |   |   |   |   |   |--- class: 1\n",
            "|   |   |   |   |   |--- Curtosis >  0.25\n",
            "|   |   |   |   |   |   |--- class: 0\n",
            "|   |   |   |--- Curtosis >  6.22\n",
            "|   |   |   |   |--- Skewness <= -4.67\n",
            "|   |   |   |   |   |--- class: 1\n",
            "|   |   |   |   |--- Skewness >  -4.67\n",
            "|   |   |   |   |   |--- Curtosis <= 6.61\n",
            "|   |   |   |   |   |   |--- Skewness <= -2.23\n",
            "|   |   |   |   |   |   |   |--- class: 1\n",
            "|   |   |   |   |   |   |--- Skewness >  -2.23\n",
            "|   |   |   |   |   |   |   |--- class: 0\n",
            "|   |   |   |   |   |--- Curtosis >  6.61\n",
            "|   |   |   |   |   |   |--- class: 0\n",
            "|   |   |--- Variance >  -0.46\n",
            "|   |   |   |--- Curtosis <= 0.30\n",
            "|   |   |   |   |--- Skewness <= 5.58\n",
            "|   |   |   |   |   |--- class: 1\n",
            "|   |   |   |   |--- Skewness >  5.58\n",
            "|   |   |   |   |   |--- class: 0\n",
            "|   |   |   |--- Curtosis >  0.30\n",
            "|   |   |   |   |--- Entropy <= 0.73\n",
            "|   |   |   |   |   |--- Variance <= 0.20\n",
            "|   |   |   |   |   |   |--- class: 0\n",
            "|   |   |   |   |   |--- Variance >  0.20\n",
            "|   |   |   |   |   |   |--- class: 1\n",
            "|   |   |   |   |--- Entropy >  0.73\n",
            "|   |   |   |   |   |--- Curtosis <= 6.63\n",
            "|   |   |   |   |   |   |--- class: 1\n",
            "|   |   |   |   |   |--- Curtosis >  6.63\n",
            "|   |   |   |   |   |   |--- class: 0\n",
            "|   |--- Skewness >  7.52\n",
            "|   |   |--- Variance <= -4.88\n",
            "|   |   |   |--- class: 1\n",
            "|   |   |--- Variance >  -4.88\n",
            "|   |   |   |--- class: 0\n",
            "|--- Variance >  0.31\n",
            "|   |--- Curtosis <= -4.44\n",
            "|   |   |--- Variance <= 3.26\n",
            "|   |   |   |--- class: 1\n",
            "|   |   |--- Variance >  3.26\n",
            "|   |   |   |--- class: 0\n",
            "|   |--- Curtosis >  -4.44\n",
            "|   |   |--- Variance <= 1.59\n",
            "|   |   |   |--- Curtosis <= -2.24\n",
            "|   |   |   |   |--- Skewness <= 5.67\n",
            "|   |   |   |   |   |--- class: 1\n",
            "|   |   |   |   |--- Skewness >  5.67\n",
            "|   |   |   |   |   |--- class: 0\n",
            "|   |   |   |--- Curtosis >  -2.24\n",
            "|   |   |   |   |--- Entropy <= 0.11\n",
            "|   |   |   |   |   |--- Variance <= 0.45\n",
            "|   |   |   |   |   |   |--- Curtosis <= -1.32\n",
            "|   |   |   |   |   |   |   |--- class: 1\n",
            "|   |   |   |   |   |   |--- Curtosis >  -1.32\n",
            "|   |   |   |   |   |   |   |--- class: 0\n",
            "|   |   |   |   |   |--- Variance >  0.45\n",
            "|   |   |   |   |   |   |--- class: 0\n",
            "|   |   |   |   |--- Entropy >  0.11\n",
            "|   |   |   |   |   |--- Curtosis <= 1.85\n",
            "|   |   |   |   |   |   |--- Skewness <= 3.65\n",
            "|   |   |   |   |   |   |   |--- class: 1\n",
            "|   |   |   |   |   |   |--- Skewness >  3.65\n",
            "|   |   |   |   |   |   |   |--- class: 0\n",
            "|   |   |   |   |   |--- Curtosis >  1.85\n",
            "|   |   |   |   |   |   |--- class: 0\n",
            "|   |   |--- Variance >  1.59\n",
            "|   |   |   |--- Variance <= 1.74\n",
            "|   |   |   |   |--- Curtosis <= -2.64\n",
            "|   |   |   |   |   |--- class: 1\n",
            "|   |   |   |   |--- Curtosis >  -2.64\n",
            "|   |   |   |   |   |--- class: 0\n",
            "|   |   |   |--- Variance >  1.74\n",
            "|   |   |   |   |--- class: 0\n",
            "\n"
          ]
        }
      ],
      "source": [
        "#Build a text report showing the rules of a decision tree.\n",
        "text_representation = tree.export_text(model,feature_names=['Variance', 'Skewness', 'Curtosis', 'Entropy'])\n",
        "print(text_representation)"
      ]
    },
    {
      "cell_type": "code",
      "execution_count": null,
      "id": "ea825ba5",
      "metadata": {
        "id": "ea825ba5"
      },
      "outputs": [],
      "source": [
        "import matplotlib.pyplot as plt"
      ]
    },
    {
      "cell_type": "code",
      "execution_count": null,
      "id": "8da93bee",
      "metadata": {
        "scrolled": true,
        "id": "8da93bee",
        "outputId": "420e13ad-6481-4a73-c87c-92ef3dba0762"
      },
      "outputs": [
        {
          "data": {
            "text/plain": [
              "array([0, 1], dtype=int64)"
            ]
          },
          "execution_count": 50,
          "metadata": {},
          "output_type": "execute_result"
        }
      ],
      "source": [
        "np.unique(y)"
      ]
    },
    {
      "cell_type": "code",
      "execution_count": null,
      "id": "bb2dc994",
      "metadata": {
        "id": "bb2dc994",
        "outputId": "f9e8caa5-47c5-4d9b-dbb5-590121f10b18"
      },
      "outputs": [
        {
          "data": {
            "text/plain": [
              "array([0, 1], dtype=int64)"
            ]
          },
          "execution_count": 51,
          "metadata": {},
          "output_type": "execute_result"
        }
      ],
      "source": [
        "model.classes_"
      ]
    },
    {
      "cell_type": "code",
      "execution_count": null,
      "id": "23f4da99",
      "metadata": {
        "scrolled": true,
        "id": "23f4da99",
        "outputId": "3d229071-bc85-4ea6-b620-a2bf32f8d848"
      },
      "outputs": [
        {
          "data": {
            "image/png": "[encoded data removed]",
            "text/plain": [
              "<Figure size 1296x792 with 1 Axes>"
            ]
          },
          "metadata": {
            "needs_background": "light"
          },
          "output_type": "display_data"
        }
      ],
      "source": [
        "fig = plt.figure(figsize=(18,11))\n",
        "_ = tree.plot_tree(model, \n",
        "                   feature_names=['Variance', 'Skewness', 'Curtosis', 'Entropy'],  \n",
        "                   class_names=['Fake','Genuine'],\n",
        "                   filled=True)\n",
        "plt.savefig('sample_20.png',dpi=120)"
      ]
    },
    {
      "cell_type": "code",
      "execution_count": null,
      "id": "19974439",
      "metadata": {
        "id": "19974439",
        "outputId": "48c2836c-36be-46d7-e876-8130bef9a1f9"
      },
      "outputs": [
        {
          "data": {
            "text/plain": [
              "1097"
            ]
          },
          "execution_count": 52,
          "metadata": {},
          "output_type": "execute_result"
        }
      ],
      "source": [
        "len(X_train)"
      ]
    },
    {
      "cell_type": "code",
      "execution_count": null,
      "id": "0b5353bb",
      "metadata": {
        "id": "0b5353bb"
      },
      "outputs": [],
      "source": [
        "plt.figure(figsize=(12,12))\n",
        "tree.plot_tree(model, fontsize=6)\n",
        "plt.savefig('tree_high_dpi', dpi=100)"
      ]
    },
    {
      "cell_type": "markdown",
      "id": "6ef5174d",
      "metadata": {
        "id": "6ef5174d"
      },
      "source": [
        "# Cross Validation"
      ]
    },
    {
      "cell_type": "code",
      "execution_count": null,
      "id": "66d3cce1",
      "metadata": {
        "id": "66d3cce1"
      },
      "outputs": [],
      "source": [
        "from sklearn.model_selection import cross_val_score"
      ]
    },
    {
      "cell_type": "code",
      "execution_count": null,
      "id": "ef8b95cb",
      "metadata": {
        "id": "ef8b95cb"
      },
      "outputs": [],
      "source": [
        "cross_val_score?"
      ]
    },
    {
      "cell_type": "code",
      "execution_count": null,
      "id": "9785847b",
      "metadata": {
        "id": "9785847b"
      },
      "outputs": [],
      "source": [
        "# different scoring options\n",
        "#https://iqcode.com/code/python/sklearn-cross-val-score-scoring-options"
      ]
    },
    {
      "cell_type": "code",
      "execution_count": null,
      "id": "bffa91f5",
      "metadata": {
        "id": "bffa91f5",
        "outputId": "c5790a0e-73f5-4fab-da8e-08f790f73fb3"
      },
      "outputs": [
        {
          "data": {
            "text/plain": [
              "DecisionTreeClassifier()"
            ]
          },
          "execution_count": 55,
          "metadata": {},
          "output_type": "execute_result"
        }
      ],
      "source": [
        "model"
      ]
    },
    {
      "cell_type": "code",
      "execution_count": null,
      "id": "da861d5c",
      "metadata": {
        "id": "da861d5c",
        "outputId": "02c43e4a-8362-4d82-a648-f67d2912d775"
      },
      "outputs": [
        {
          "data": {
            "text/html": [
              "<div>\n",
              "<style scoped>\n",
              "    .dataframe tbody tr th:only-of-type {\n",
              "        vertical-align: middle;\n",
              "    }\n",
              "\n",
              "    .dataframe tbody tr th {\n",
              "        vertical-align: top;\n",
              "    }\n",
              "\n",
              "    .dataframe thead th {\n",
              "        text-align: right;\n",
              "    }\n",
              "</style>\n",
              "<table border=\"1\" class=\"dataframe\">\n",
              "  <thead>\n",
              "    <tr style=\"text-align: right;\">\n",
              "      <th></th>\n",
              "      <th>Variance</th>\n",
              "      <th>Skewness</th>\n",
              "      <th>Curtosis</th>\n",
              "      <th>Entropy</th>\n",
              "    </tr>\n",
              "  </thead>\n",
              "  <tbody>\n",
              "    <tr>\n",
              "      <th>0</th>\n",
              "      <td>3.6216</td>\n",
              "      <td>8.6661</td>\n",
              "      <td>-2.8073</td>\n",
              "      <td>-0.44699</td>\n",
              "    </tr>\n",
              "    <tr>\n",
              "      <th>1</th>\n",
              "      <td>4.5459</td>\n",
              "      <td>8.1674</td>\n",
              "      <td>-2.4586</td>\n",
              "      <td>-1.46210</td>\n",
              "    </tr>\n",
              "    <tr>\n",
              "      <th>2</th>\n",
              "      <td>3.8660</td>\n",
              "      <td>-2.6383</td>\n",
              "      <td>1.9242</td>\n",
              "      <td>0.10645</td>\n",
              "    </tr>\n",
              "    <tr>\n",
              "      <th>3</th>\n",
              "      <td>3.4566</td>\n",
              "      <td>9.5228</td>\n",
              "      <td>-4.0112</td>\n",
              "      <td>-3.59440</td>\n",
              "    </tr>\n",
              "  </tbody>\n",
              "</table>\n",
              "</div>"
            ],
            "text/plain": [
              "   Variance  Skewness  Curtosis  Entropy\n",
              "0    3.6216    8.6661   -2.8073 -0.44699\n",
              "1    4.5459    8.1674   -2.4586 -1.46210\n",
              "2    3.8660   -2.6383    1.9242  0.10645\n",
              "3    3.4566    9.5228   -4.0112 -3.59440"
            ]
          },
          "execution_count": 56,
          "metadata": {},
          "output_type": "execute_result"
        }
      ],
      "source": [
        "X[:4]"
      ]
    },
    {
      "cell_type": "code",
      "execution_count": null,
      "id": "9d5ccfad",
      "metadata": {
        "id": "9d5ccfad",
        "outputId": "9c4ea804-a5cf-4e87-af2b-82e8938b04a3"
      },
      "outputs": [
        {
          "data": {
            "text/plain": [
              "0    0\n",
              "1    0\n",
              "2    0\n",
              "3    0\n",
              "Name: Class, dtype: int64"
            ]
          },
          "execution_count": 57,
          "metadata": {},
          "output_type": "execute_result"
        }
      ],
      "source": [
        "y[:4]"
      ]
    },
    {
      "cell_type": "code",
      "execution_count": null,
      "id": "872a9178",
      "metadata": {
        "id": "872a9178",
        "outputId": "3bae7281-dde6-4481-ced8-92bc0e13a5c4"
      },
      "outputs": [
        {
          "data": {
            "text/plain": [
              "array([0, 1], dtype=int64)"
            ]
          },
          "execution_count": 58,
          "metadata": {},
          "output_type": "execute_result"
        }
      ],
      "source": [
        "y.unique()"
      ]
    },
    {
      "cell_type": "code",
      "execution_count": null,
      "id": "ff69fdd7",
      "metadata": {
        "id": "ff69fdd7",
        "outputId": "c782b552-81ad-4f79-e9e9-26b832a73866"
      },
      "outputs": [
        {
          "data": {
            "text/plain": [
              "(1372, 4)"
            ]
          },
          "execution_count": 59,
          "metadata": {},
          "output_type": "execute_result"
        }
      ],
      "source": [
        "X.shape"
      ]
    },
    {
      "cell_type": "code",
      "execution_count": null,
      "id": "61434d8c",
      "metadata": {
        "id": "61434d8c",
        "outputId": "bcee53a3-e871-42f3-c298-29b0b8c176ab"
      },
      "outputs": [
        {
          "data": {
            "text/plain": [
              "array([0.98545455, 0.96727273, 0.98175182, 0.98540146, 0.98540146])"
            ]
          },
          "execution_count": 60,
          "metadata": {},
          "output_type": "execute_result"
        }
      ],
      "source": [
        "cv_score = cross_val_score(model,X,y)\n",
        "#default cv value is =5\n",
        "cv_score"
      ]
    },
    {
      "cell_type": "code",
      "execution_count": null,
      "id": "c4025bff",
      "metadata": {
        "id": "c4025bff",
        "outputId": "f5286b43-098c-41bd-cf4f-af0bef7a39ab"
      },
      "outputs": [
        {
          "data": {
            "text/plain": [
              "0.9854545454545455"
            ]
          },
          "execution_count": 62,
          "metadata": {},
          "output_type": "execute_result"
        }
      ],
      "source": [
        "model.score(X_test,y_test)"
      ]
    },
    {
      "cell_type": "code",
      "execution_count": null,
      "id": "a8e6ed68",
      "metadata": {
        "id": "a8e6ed68",
        "outputId": "7ec1f349-c3d7-443d-a552-af1cbbae86cc"
      },
      "outputs": [
        {
          "data": {
            "text/plain": [
              "98.1056403450564"
            ]
          },
          "execution_count": 63,
          "metadata": {},
          "output_type": "execute_result"
        }
      ],
      "source": [
        "cv_score.mean()*100"
      ]
    },
    {
      "cell_type": "code",
      "execution_count": null,
      "id": "dafd1752",
      "metadata": {
        "id": "dafd1752"
      },
      "outputs": [],
      "source": [
        "#lets try Logistic regression over same data and check cross_val_score\n",
        "from sklearn.linear_model import LogisticRegression\n",
        "LR = LogisticRegression()"
      ]
    },
    {
      "cell_type": "code",
      "execution_count": null,
      "id": "1c0e9850",
      "metadata": {
        "scrolled": true,
        "id": "1c0e9850",
        "outputId": "e2a5b657-1921-41d4-9526-214416bff444"
      },
      "outputs": [
        {
          "data": {
            "text/plain": [
              "array([0.98908297, 0.9868709 , 0.99343545])"
            ]
          },
          "execution_count": 65,
          "metadata": {},
          "output_type": "execute_result"
        }
      ],
      "source": [
        "cv_3 = cross_val_score(LR,X,y,cv=3)\n",
        "cv_3"
      ]
    },
    {
      "cell_type": "code",
      "execution_count": null,
      "id": "977562cb",
      "metadata": {
        "id": "977562cb",
        "outputId": "d8c641a1-9c2e-433d-fa20-19188e7cb200"
      },
      "outputs": [
        {
          "data": {
            "text/plain": [
              "0.989796438388452"
            ]
          },
          "execution_count": 66,
          "metadata": {},
          "output_type": "execute_result"
        }
      ],
      "source": [
        "cv_3.mean()"
      ]
    },
    {
      "cell_type": "code",
      "execution_count": null,
      "id": "8cfa9283",
      "metadata": {
        "id": "8cfa9283"
      },
      "outputs": [],
      "source": [
        "from sklearn.naive_bayes import GaussianNB"
      ]
    },
    {
      "cell_type": "code",
      "execution_count": null,
      "id": "80517e6f",
      "metadata": {
        "scrolled": true,
        "id": "80517e6f",
        "outputId": "8ca33ae7-259d-4a70-dc25-b20202907473"
      },
      "outputs": [
        {
          "data": {
            "text/plain": [
              "83.82057067020571"
            ]
          },
          "execution_count": 68,
          "metadata": {},
          "output_type": "execute_result"
        }
      ],
      "source": [
        "cross_val_score(GaussianNB(),X,y).mean()*100"
      ]
    },
    {
      "cell_type": "markdown",
      "id": "ab29de21",
      "metadata": {
        "id": "ab29de21"
      },
      "source": [
        "## we have 2 options: \n",
        "# Stratified Kfold \n",
        "# Kfold cross validation"
      ]
    },
    {
      "cell_type": "code",
      "execution_count": null,
      "id": "adf75448",
      "metadata": {
        "id": "adf75448"
      },
      "outputs": [],
      "source": [
        "[0,1,2,3,4,5,6,7]\n",
        "Train: [1 2 3 5 6 7] | test: [0 4]\n",
        "Train: [0 2 3 4 6 7] | test: [1 5]\n",
        "Train: [0 1 3 4 5 7] | test: [2 6]\n",
        "Train: [0 1 2 4 5 6] | test: [3 7]\n",
        "StratifiedKFold done\n",
        "\n",
        "Train: [2 3 4 5 6 7] | test: [0 1]\n",
        "Train: [0 1 4 5 6 7] | test: [2 3]\n",
        "Train: [0 1 2 3 6 7] | test: [4 5]\n",
        "Train: [0 1 2 3 4 5] | test: [6 7]\n",
        "KFold done"
      ]
    },
    {
      "cell_type": "code",
      "execution_count": null,
      "id": "eb81462a",
      "metadata": {
        "id": "eb81462a"
      },
      "outputs": [],
      "source": [
        "from sklearn.model_selection import KFold\n",
        "from sklearn.model_selection import StratifiedKFold"
      ]
    },
    {
      "cell_type": "code",
      "execution_count": null,
      "id": "04a6e5c3",
      "metadata": {
        "id": "04a6e5c3"
      },
      "outputs": [],
      "source": [
        "X = np.array([\n",
        "    [1,2,3,4],\n",
        "    [11,12,13,14],\n",
        "    [21,22,23,24],\n",
        "    [31,32,33,34],\n",
        "    [41,42,43,44],\n",
        "    [51,52,53,54],\n",
        "    [61,62,63,64],\n",
        "    [71,72,73,74]\n",
        "])\n",
        "\n",
        "y = np.array([0,0,0,0,1,1,1,1])"
      ]
    },
    {
      "cell_type": "code",
      "execution_count": null,
      "id": "bd39fc88",
      "metadata": {
        "id": "bd39fc88"
      },
      "outputs": [],
      "source": [
        "kf = KFold(n_splits=4)\n",
        "# default  n_split=5"
      ]
    },
    {
      "cell_type": "code",
      "execution_count": null,
      "id": "08cbd03c",
      "metadata": {
        "id": "08cbd03c"
      },
      "outputs": [],
      "source": [
        "kf.split(X)"
      ]
    },
    {
      "cell_type": "code",
      "execution_count": null,
      "id": "df4333c9",
      "metadata": {
        "id": "df4333c9"
      },
      "outputs": [],
      "source": [
        "list(kf.split(X))"
      ]
    },
    {
      "cell_type": "code",
      "execution_count": null,
      "id": "83778a44",
      "metadata": {
        "id": "83778a44"
      },
      "outputs": [],
      "source": [
        "skf = StratifiedKFold(n_splits=4)\n",
        "skf"
      ]
    },
    {
      "cell_type": "code",
      "execution_count": null,
      "id": "e0a8966a",
      "metadata": {
        "id": "e0a8966a"
      },
      "outputs": [],
      "source": [
        "skf.split(X,y)"
      ]
    },
    {
      "cell_type": "code",
      "execution_count": null,
      "id": "d0fa7f27",
      "metadata": {
        "id": "d0fa7f27"
      },
      "outputs": [],
      "source": [
        "list(skf.split(X,y))\n",
        "#[array(training_index),array(test_index)]"
      ]
    },
    {
      "cell_type": "code",
      "execution_count": null,
      "id": "f401f8c4",
      "metadata": {
        "id": "f401f8c4"
      },
      "outputs": [],
      "source": [
        "for train_index,test_index in skf.split(X,y):\n",
        "    print(train_index,test_index)"
      ]
    },
    {
      "cell_type": "code",
      "execution_count": null,
      "id": "29272a77",
      "metadata": {
        "scrolled": true,
        "id": "29272a77"
      },
      "outputs": [],
      "source": [
        "for train_index,test_index in skf.split(X,y):\n",
        "    print(X[train_index],X[test_index])# X_train,X_test"
      ]
    },
    {
      "cell_type": "code",
      "execution_count": null,
      "id": "97eb525e",
      "metadata": {
        "id": "97eb525e"
      },
      "outputs": [],
      "source": [
        "X"
      ]
    },
    {
      "cell_type": "markdown",
      "id": "7e777ccd",
      "metadata": {
        "id": "7e777ccd"
      },
      "source": [
        "# Hyperparameter tuning using GridSearch CV"
      ]
    },
    {
      "cell_type": "code",
      "execution_count": null,
      "id": "d30884c3",
      "metadata": {
        "id": "d30884c3"
      },
      "outputs": [],
      "source": [
        "DecisionTreeClassifier?"
      ]
    },
    {
      "cell_type": "code",
      "execution_count": null,
      "id": "66f6f28d",
      "metadata": {
        "scrolled": true,
        "id": "66f6f28d"
      },
      "outputs": [],
      "source": [
        "m1 = DecisionTreeClassifier()\n",
        "m1.fit(X_train,y_train)\n",
        "print(m1.score(X_train,y_train)*100)\n",
        "print(m1.score(X_test,y_test)*100)"
      ]
    },
    {
      "cell_type": "code",
      "execution_count": null,
      "id": "85dbe511",
      "metadata": {
        "id": "85dbe511"
      },
      "outputs": [],
      "source": [
        "#lets change some parameter values\n",
        "m2 = DecisionTreeClassifier(criterion='entropy',\n",
        "    splitter='random',\n",
        "    max_depth=10,\n",
        "    min_samples_split=2,\n",
        "    min_samples_leaf=2,\n",
        "    min_weight_fraction_leaf=0.5)\n",
        "m2.fit(X_train,y_train)\n",
        "print(m2.score(X_train,y_train)*100)\n",
        "print(m2.score(X_test,y_test)*100)"
      ]
    },
    {
      "cell_type": "code",
      "execution_count": null,
      "id": "475c884b",
      "metadata": {
        "id": "475c884b"
      },
      "outputs": [],
      "source": [
        "from sklearn.model_selection import GridSearchCV"
      ]
    },
    {
      "cell_type": "code",
      "execution_count": null,
      "id": "26441706",
      "metadata": {
        "id": "26441706"
      },
      "outputs": [],
      "source": [
        "pr_grid = {\n",
        "    'criterion':['gini','entropy'],\n",
        "    'splitter':['best','random'],\n",
        "    'max_depth':[2,3,4,5,6,8],\n",
        "    'min_samples_split':[2,3],\n",
        "    'min_samples_leaf':[1,2],\n",
        "    'min_weight_fraction_leaf':[0.0,0.2,0.4,0.5]\n",
        "    } "
      ]
    },
    {
      "cell_type": "code",
      "execution_count": null,
      "id": "98c5ac8c",
      "metadata": {
        "id": "98c5ac8c"
      },
      "outputs": [],
      "source": [
        "pr_grid"
      ]
    },
    {
      "cell_type": "code",
      "execution_count": null,
      "id": "559e4c47",
      "metadata": {
        "id": "559e4c47"
      },
      "outputs": [],
      "source": [
        "\"\"\"\n",
        "GridSearchCV(\n",
        "    estimator,\n",
        "    param_grid,\n",
        "\"\"\"\n",
        "out = GridSearchCV(DecisionTreeClassifier(),pr_grid)"
      ]
    },
    {
      "cell_type": "code",
      "execution_count": null,
      "id": "efa36b00",
      "metadata": {
        "id": "efa36b00"
      },
      "outputs": [],
      "source": [
        "out"
      ]
    },
    {
      "cell_type": "code",
      "execution_count": null,
      "id": "40d18f53",
      "metadata": {
        "id": "40d18f53"
      },
      "outputs": [],
      "source": [
        "X[:2]"
      ]
    },
    {
      "cell_type": "code",
      "execution_count": null,
      "id": "bbe72c24",
      "metadata": {
        "id": "bbe72c24"
      },
      "outputs": [],
      "source": [
        "y = df.Class\n",
        "y[:2]"
      ]
    },
    {
      "cell_type": "code",
      "execution_count": null,
      "id": "562e4972",
      "metadata": {
        "id": "562e4972"
      },
      "outputs": [],
      "source": [
        "# Train ove X and Y using GridSearchCV object\n",
        "out.fit(X,y)"
      ]
    },
    {
      "cell_type": "code",
      "execution_count": null,
      "id": "1c6188e6",
      "metadata": {
        "scrolled": true,
        "id": "1c6188e6"
      },
      "outputs": [],
      "source": [
        "out.best_params_"
      ]
    },
    {
      "cell_type": "code",
      "execution_count": null,
      "id": "1b032919",
      "metadata": {
        "id": "1b032919"
      },
      "outputs": [],
      "source": [
        "pr_grid"
      ]
    },
    {
      "cell_type": "code",
      "execution_count": null,
      "id": "f90c4948",
      "metadata": {
        "id": "f90c4948"
      },
      "outputs": [],
      "source": [
        "out.best_estimator_"
      ]
    },
    {
      "cell_type": "code",
      "execution_count": null,
      "id": "c85590c8",
      "metadata": {
        "id": "c85590c8"
      },
      "outputs": [],
      "source": [
        "final = DecisionTreeClassifier(criterion='entropy', max_depth=8, min_samples_split=3)"
      ]
    },
    {
      "cell_type": "code",
      "execution_count": null,
      "id": "56530afa",
      "metadata": {
        "id": "56530afa"
      },
      "outputs": [],
      "source": [
        "final.fit(X,y)"
      ]
    },
    {
      "cell_type": "code",
      "execution_count": null,
      "id": "e346685c",
      "metadata": {
        "id": "e346685c"
      },
      "outputs": [],
      "source": [
        "final.score(X,y)*100"
      ]
    },
    {
      "cell_type": "code",
      "execution_count": null,
      "id": "762929ce",
      "metadata": {
        "id": "762929ce"
      },
      "outputs": [],
      "source": [
        "final.score(X_train,y_train)*100"
      ]
    },
    {
      "cell_type": "code",
      "execution_count": null,
      "id": "946f97a1",
      "metadata": {
        "id": "946f97a1"
      },
      "outputs": [],
      "source": [
        "final.score(X_test,y_test)*100"
      ]
    },
    {
      "cell_type": "markdown",
      "id": "9ad3156c",
      "metadata": {
        "id": "9ad3156c"
      },
      "source": [
        "# Serialization"
      ]
    },
    {
      "cell_type": "raw",
      "id": "0153bd4f",
      "metadata": {
        "id": "0153bd4f"
      },
      "source": [
        "Serialization is also known as Marshalling or Pickling. \n",
        "The Converted Byte Code from Python Code as part of Serialization \n",
        "can be converted back to Python Code through Deserialization. \n",
        "Deserialization is also known as Unmarshalling or Unpickling. \n",
        "Python has a specialized package named “Pickle” to perform Serialization \n",
        "and Deserialization."
      ]
    },
    {
      "cell_type": "raw",
      "id": "bc6a3310",
      "metadata": {
        "id": "bc6a3310"
      },
      "source": [
        "The pickle module is used for implementing binary protocols for serializing and de-serializing a Python object structure. \n",
        " \n",
        "\n",
        "Serialization/Marshaling/Pickling: It is a process where a Python object hierarchy is converted into a byte stream. \n",
        " \n",
        "DeSerialization/Unpickling: It is the inverse of Pickling process where a byte stream is converted into an object hierarchy. \n",
        "\n",
        "Python provides three different modules which allow us to serialize and deserialize objects :  \n",
        "\n",
        "Marshal Module\n",
        "Pickle Module\n",
        "JSON Module\n",
        "Joblib"
      ]
    },
    {
      "cell_type": "markdown",
      "id": "f17beead",
      "metadata": {
        "id": "f17beead"
      },
      "source": [
        "## Module Interface : \n",
        " \n",
        "\n",
        "- dumps() – This function is called to serialize an object hierarchy.\n",
        "- loads() – This function is called to de-serialize a data stream."
      ]
    },
    {
      "cell_type": "code",
      "execution_count": null,
      "id": "dc2f99d1",
      "metadata": {
        "id": "dc2f99d1"
      },
      "outputs": [],
      "source": [
        "import pickle"
      ]
    },
    {
      "cell_type": "code",
      "execution_count": null,
      "id": "6a61e5f4",
      "metadata": {
        "id": "6a61e5f4"
      },
      "outputs": [],
      "source": [
        "final.predict([[2.3,1.2,1.1,4.5]])"
      ]
    },
    {
      "cell_type": "code",
      "execution_count": null,
      "id": "6545d9f9",
      "metadata": {
        "id": "6545d9f9"
      },
      "outputs": [],
      "source": [
        "# save the DT_model to disk\n",
        "filename = 'DT.pickle'\n",
        "pickle.dump(final, open(filename, 'wb'))"
      ]
    },
    {
      "cell_type": "markdown",
      "id": "582bf460",
      "metadata": {
        "id": "582bf460"
      },
      "source": [
        "# De Serialization"
      ]
    },
    {
      "cell_type": "code",
      "execution_count": null,
      "id": "3046af09",
      "metadata": {
        "id": "3046af09"
      },
      "outputs": [],
      "source": [
        "# end user/testing  team/ client/ devops team will use pickled file\n",
        "check = pickle.load(open('DT.h5','rb'))\n",
        "check"
      ]
    },
    {
      "cell_type": "code",
      "execution_count": null,
      "id": "d87a9668",
      "metadata": {
        "id": "d87a9668"
      },
      "outputs": [],
      "source": [
        "s = 'python'\n",
        "k = ''\n",
        "for i in s:\n",
        "    k = i + k\n",
        "print(k)"
      ]
    },
    {
      "cell_type": "code",
      "execution_count": null,
      "id": "fee8299d",
      "metadata": {
        "id": "fee8299d"
      },
      "outputs": [],
      "source": [
        "s #-1,-2,-3,..-6"
      ]
    },
    {
      "cell_type": "code",
      "execution_count": null,
      "id": "e17f064c",
      "metadata": {
        "id": "e17f064c"
      },
      "outputs": [],
      "source": [
        "for i in range(-1,- (len(s)+1),-1):\n",
        "    print(s[i],end='')"
      ]
    },
    {
      "cell_type": "code",
      "execution_count": null,
      "id": "40cce355",
      "metadata": {
        "id": "40cce355"
      },
      "outputs": [],
      "source": [
        "*\n",
        "**\n",
        "***\n",
        "****\n",
        "*****"
      ]
    },
    {
      "cell_type": "code",
      "execution_count": null,
      "id": "c23d5dd9",
      "metadata": {
        "id": "c23d5dd9"
      },
      "outputs": [],
      "source": [
        "[print(i*'*') for i in range(1,6)]"
      ]
    },
    {
      "cell_type": "code",
      "execution_count": null,
      "id": "8acd9410",
      "metadata": {
        "id": "8acd9410"
      },
      "outputs": [],
      "source": []
    }
  ],
  "metadata": {
    "kernelspec": {
      "display_name": "Python 3 (ipykernel)",
      "language": "python",
      "name": "python3"
    },
    "language_info": {
      "codemirror_mode": {
        "name": "ipython",
        "version": 3
      },
      "file_extension": ".py",
      "mimetype": "text/x-python",
      "name": "python",
      "nbconvert_exporter": "python",
      "pygments_lexer": "ipython3",
      "version": "3.9.7"
    },
    "colab": {
      "provenance": [],
      "include_colab_link": true
    }
  },
  "nbformat": 4,
  "nbformat_minor": 5
}